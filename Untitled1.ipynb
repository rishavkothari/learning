{
 "cells": [
  {
   "cell_type": "code",
   "execution_count": 8,
   "id": "0ad8cead",
   "metadata": {},
   "outputs": [],
   "source": [
    "def var(Z):\n",
    "    mean=sum(Z)/len(Z)\n",
    "    tot=0.0\n",
    "    for z in Z:\n",
    "        tot= tot+ (z-mean)**2\n",
    "    return tot/len(Z)"
   ]
  },
  {
   "cell_type": "code",
   "execution_count": 11,
   "id": "7b34d8bd",
   "metadata": {},
   "outputs": [],
   "source": [
    "def sd(Z):\n",
    "    mean=sum(Z)/len(Z)\n",
    "    tot=0.0\n",
    "    for z in Z:\n",
    "        tot= tot+ (z-mean)**2\n",
    "    return (tot/len(Z))**0.5"
   ]
  },
  {
   "cell_type": "code",
   "execution_count": 12,
   "id": "9f2d3721",
   "metadata": {},
   "outputs": [],
   "source": [
    "Z = [11,23,39,10,16,18,20,35]\n"
   ]
  },
  {
   "cell_type": "code",
   "execution_count": 13,
   "id": "b03cf6bb",
   "metadata": {},
   "outputs": [
    {
     "name": "stdout",
     "output_type": "stream",
     "text": [
      "Standard Deviation is  9.86154146165801\n",
      "Variance is  97.25\n"
     ]
    }
   ],
   "source": [
    "print(\"Standard Deviation is \" , sd(Z))\n",
    "print(\"Variance is \" , var(Z))"
   ]
  },
  {
   "cell_type": "code",
   "execution_count": null,
   "id": "186c99fd",
   "metadata": {},
   "outputs": [],
   "source": []
  }
 ],
 "metadata": {
  "kernelspec": {
   "display_name": "Python 3 (ipykernel)",
   "language": "python",
   "name": "python3"
  },
  "language_info": {
   "codemirror_mode": {
    "name": "ipython",
    "version": 3
   },
   "file_extension": ".py",
   "mimetype": "text/x-python",
   "name": "python",
   "nbconvert_exporter": "python",
   "pygments_lexer": "ipython3",
   "version": "3.9.12"
  }
 },
 "nbformat": 4,
 "nbformat_minor": 5
}
