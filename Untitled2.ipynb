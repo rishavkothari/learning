{
 "cells": [
  {
   "cell_type": "code",
   "execution_count": 9,
   "id": "3a36ce2b",
   "metadata": {},
   "outputs": [],
   "source": [
    "import pandas as pd\n",
    "from scipy import stats\n",
    "df = pd.read_excel(\"C:/Users/rishavkothari4/Documents/bef-aft course.xlsx\")\n"
   ]
  },
  {
   "cell_type": "code",
   "execution_count": 10,
   "id": "a5ff526b",
   "metadata": {},
   "outputs": [],
   "source": [
    "def paired_t_test(data,bef,aft):\n",
    "    from math import sqrt\n",
    "    df = pd.DataFrame() \n",
    "    df['d'] = data[bef] - data[aft]\n",
    "    df['d2'] = df['d']*df['d']\n",
    "    n = len(df['d'])\n",
    "    b = n*sum(df['d2']) - (sum(df['d']))**2\n",
    "    b = sqrt(b/(n-1))\n",
    "    a = sum(df['d'])\n",
    "    t_value = (a/b)\n",
    "    return(t_value)\n",
    "\n",
    "\n"
   ]
  },
  {
   "cell_type": "code",
   "execution_count": 11,
   "id": "aeef0720",
   "metadata": {},
   "outputs": [
    {
     "data": {
      "text/plain": [
       "3.445359719553577"
      ]
     },
     "execution_count": 11,
     "metadata": {},
     "output_type": "execute_result"
    }
   ],
   "source": [
    "t_value = paired_t_test(df,'After Course','Before Course')\n",
    "t_value\n"
   ]
  },
  {
   "cell_type": "code",
   "execution_count": 12,
   "id": "79fd89fe",
   "metadata": {},
   "outputs": [
    {
     "name": "stdout",
     "output_type": "stream",
     "text": [
      "We reject null hypothesis\n"
     ]
    }
   ],
   "source": [
    "#alpha = 0.025\n",
    "tab_t = 2.681\n",
    "if t_value > tab_t:\n",
    "    print(f\"We reject null hypothesis\")\n",
    "else:\n",
    "    print(f\"We fail to reject null hypothesis\")"
   ]
  },
  {
   "cell_type": "code",
   "execution_count": null,
   "id": "4a52d557",
   "metadata": {},
   "outputs": [],
   "source": []
  }
 ],
 "metadata": {
  "kernelspec": {
   "display_name": "Python 3 (ipykernel)",
   "language": "python",
   "name": "python3"
  },
  "language_info": {
   "codemirror_mode": {
    "name": "ipython",
    "version": 3
   },
   "file_extension": ".py",
   "mimetype": "text/x-python",
   "name": "python",
   "nbconvert_exporter": "python",
   "pygments_lexer": "ipython3",
   "version": "3.9.12"
  }
 },
 "nbformat": 4,
 "nbformat_minor": 5
}
